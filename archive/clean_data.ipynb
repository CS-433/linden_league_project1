{
 "cells": [
  {
   "cell_type": "code",
   "execution_count": 8,
   "id": "a5e89eb2-4476-414d-8078-a6773ed6ce43",
   "metadata": {},
   "outputs": [],
   "source": [
    "import os\n",
    "import numpy as np\n",
    "import matplotlib.pyplot as plt\n",
    "from helpers import *\n",
    "from losses import *"
   ]
  },
  {
   "cell_type": "code",
   "execution_count": 9,
   "id": "775689ae-d874-4e6d-9fd9-6dab97b20f03",
   "metadata": {},
   "outputs": [
    {
     "data": {
      "text/plain": [
       "((328135, 321), (328135,))"
      ]
     },
     "execution_count": 9,
     "metadata": {},
     "output_type": "execute_result"
    }
   ],
   "source": [
    "\n",
    "x_train, x_test, y_train, train_ids, test_ids = load_csv_data('data_raw')\n",
    "\n",
    "\n",
    "x_train.shape, y_train.shape\n",
    "\n"
   ]
  },
  {
   "cell_type": "markdown",
   "id": "ca16d92a",
   "metadata": {},
   "source": [
    "## Remove low quality columns"
   ]
  },
  {
   "cell_type": "code",
   "execution_count": 10,
   "id": "de4f9bde",
   "metadata": {},
   "outputs": [
    {
     "data": {
      "image/png": "[encoded data removed]",
      "text/plain": [
       "<Figure size 640x480 with 1 Axes>"
      ]
     },
     "metadata": {},
     "output_type": "display_data"
    }
   ],
   "source": [
    "nan_percentage_per_column = np.isnan(x_train).sum(axis=0) / x_train.shape[0]\n",
    "columns = np.arange(x_train.shape[1])  # Create an array for column indices\n",
    "sorted_percentage = sorted(nan_percentage_per_column)\n",
    "\n",
    "\n",
    "\n",
    "plt.bar(columns, sorted_percentage)\n",
    "\n",
    "# Adding labels and title\n",
    "plt.xlabel('Column (sorted)')\n",
    "plt.ylabel('Percentage of NaN values')\n",
    "plt.title('Percentage of NaN values in each column (sorted)')\n",
    "\n",
    "# Show the plot\n",
    "plt.show()"
   ]
  },
  {
   "cell_type": "code",
   "execution_count": 11,
   "id": "dc2f4462",
   "metadata": {},
   "outputs": [
    {
     "data": {
      "text/plain": [
       "((328135, 82), (109379, 82))"
      ]
     },
     "execution_count": 11,
     "metadata": {},
     "output_type": "execute_result"
    }
   ],
   "source": [
    "no_nan_train = nan_percentage_per_column == 0\n",
    "no_nan_test = np.isnan(x_test).sum(axis=0) == 0\n",
    "\n",
    "no_nan_columns = no_nan_train & no_nan_test\n",
    "\n",
    "# Drop columns with NaN values\n",
    "x_train = x_train[:, no_nan_columns]\n",
    "x_test = x_test[:, no_nan_columns]\n",
    "\n",
    "x_train.shape, x_test.shape"
   ]
  },
  {
   "cell_type": "markdown",
   "id": "b45b5880",
   "metadata": {},
   "source": [
    "## Normalization\n"
   ]
  },
  {
   "cell_type": "code",
   "execution_count": 12,
   "id": "94b22aa3",
   "metadata": {},
   "outputs": [
    {
     "data": {
      "text/plain": [
       "(array([-9.84389741e-17,  5.97379058e-18, -6.97799371e-18, -8.38279539e-17,\n",
       "        -9.75511611e-17,  5.44388266e-13, -4.98853468e-16, -2.12228099e-11,\n",
       "        -2.12228099e-11,  1.04220586e-16, -1.02748115e-16, -5.48508741e-17,\n",
       "         3.88282854e-17, -4.15539796e-17, -9.41406599e-17, -1.97711626e-16,\n",
       "         2.51121158e-16, -1.39473258e-16,  1.34460363e-16, -8.56198204e-17,\n",
       "         1.14549532e-16,  1.85455476e-16,  9.22459370e-18,  1.65111566e-17,\n",
       "        -1.02033534e-16,  1.12503231e-16, -4.92249005e-16,  1.28613789e-16,\n",
       "        -5.06703034e-18, -9.66850021e-18,  1.87404334e-16,  7.06677501e-17,\n",
       "         1.07208834e-16, -2.28882524e-17, -1.27108838e-16,  9.94621245e-17,\n",
       "        -2.36036457e-16, -1.48546274e-17,  2.37544115e-17,  1.18317324e-16,\n",
       "         1.37784248e-16,  7.17179679e-17, -9.31120961e-19, -4.19762321e-17,\n",
       "         1.58398833e-16, -1.86310808e-16,  4.85373868e-17,  1.22344963e-17,\n",
       "         5.63003371e-19, -1.32165041e-16,  5.50010986e-18, -4.06012047e-17,\n",
       "         1.22561503e-17, -6.85348335e-18, -5.97446727e-18, -6.95336231e-17,\n",
       "         1.40561371e-17, -1.64353677e-17,  2.67210062e-17,  2.59847710e-17,\n",
       "         4.80068644e-17, -1.01178202e-17, -3.13766110e-17,  5.22618707e-17,\n",
       "         1.67422586e-15,  4.75436859e-15, -7.04620373e-17, -3.63570254e-17,\n",
       "         5.80164147e-17,  5.18612721e-18,  1.96834640e-17, -2.98608327e-17,\n",
       "        -5.50660605e-17, -4.81800962e-18, -1.23579240e-16,  9.69556768e-18,\n",
       "         8.73954464e-17,  6.69378528e-17,  6.16921771e-17,  7.53666629e-17,\n",
       "        -5.48603478e-17,  2.92112134e-17]),\n",
       " array([1., 1., 1., 1., 1., 1., 1., 1., 1., 1., 1., 1., 1., 1., 1., 1., 1.,\n",
       "        1., 1., 1., 1., 1., 1., 1., 1., 1., 1., 1., 1., 1., 1., 1., 1., 1.,\n",
       "        1., 1., 1., 1., 1., 1., 1., 1., 1., 1., 1., 1., 1., 1., 1., 1., 1.,\n",
       "        1., 1., 1., 1., 1., 1., 1., 1., 1., 1., 1., 1., 1., 1., 1., 1., 1.,\n",
       "        1., 1., 1., 1., 1., 1., 1., 1., 1., 1., 1., 1., 1., 1.]))"
      ]
     },
     "execution_count": 12,
     "metadata": {},
     "output_type": "execute_result"
    }
   ],
   "source": [
    "means, stds = np.mean(x_train, axis=0), np.std(x_train, axis=0)\n",
    "\n",
    "x_train = (x_train - means[None,:]) / stds[None,:]\n",
    "\n",
    "means, stds = np.mean(x_train, axis=0), np.std(x_train, axis=0)\n",
    "means,stds"
   ]
  },
  {
   "cell_type": "markdown",
   "id": "58cd7cb3",
   "metadata": {},
   "source": [
    "## Remove redundant columns\n",
    "Because some of the columns are linearly dependent, we have to remove them."
   ]
  },
  {
   "cell_type": "code",
   "execution_count": 13,
   "id": "746536fb",
   "metadata": {},
   "outputs": [
    {
     "name": "stdout",
     "output_type": "stream",
     "text": [
      "Rank of the matrix: 77\n",
      "Number of columns: 82\n",
      "Expected dependent: 5\n"
     ]
    }
   ],
   "source": [
    "rank = np.linalg.matrix_rank(x_train)\n",
    "x_train.shape\n",
    "print(f\"Rank of the matrix: {rank}\")\n",
    "print(f\"Number of columns: {x_train.shape[1]}\")\n",
    "print(f\"Expected dependent: {x_train.shape[1] - rank}\")"
   ]
  },
  {
   "cell_type": "code",
   "execution_count": 14,
   "id": "b20de7d1",
   "metadata": {},
   "outputs": [
    {
     "name": "stdout",
     "output_type": "stream",
     "text": [
      "(328135, 82)\n",
      "Number of independent columns: 77\n",
      "Number of dependent columns: 5\n"
     ]
    },
    {
     "data": {
      "text/plain": [
       "(82,)"
      ]
     },
     "execution_count": 14,
     "metadata": {},
     "output_type": "execute_result"
    }
   ],
   "source": [
    "def find_independent_columns(X):\n",
    "    print(X.shape)\n",
    "    q, r = np.linalg.qr(X)\n",
    "    return ~np.isclose(np.diagonal(r),np.zeros(r.shape[0]), atol=1e-5)\n",
    "\n",
    "\n",
    "indep_cols = find_independent_columns(x_train)\n",
    "\n",
    "print(f\"Number of independent columns: {indep_cols.sum()}\")\n",
    "print(f\"Number of dependent columns: {x_train.shape[1] - indep_cols.sum()}\")\n",
    "\n",
    "indep_cols.shape"
   ]
  },
  {
   "cell_type": "code",
   "execution_count": 15,
   "id": "3d9efe7e",
   "metadata": {},
   "outputs": [
    {
     "data": {
      "text/plain": [
       "((328135, 77), (109379, 77))"
      ]
     },
     "execution_count": 15,
     "metadata": {},
     "output_type": "execute_result"
    }
   ],
   "source": [
    "x_train = x_train[:, indep_cols]\n",
    "x_test = x_test[:, indep_cols]\n",
    "\n",
    "x_train.shape, x_test.shape"
   ]
  },
  {
   "cell_type": "markdown",
   "id": "ed42d7bd",
   "metadata": {},
   "source": [
    "## Save the clean data"
   ]
  },
  {
   "cell_type": "code",
   "execution_count": 17,
   "id": "49c5c80f",
   "metadata": {},
   "outputs": [],
   "source": [
    "# Save the data\n",
    "for data, name in zip([x_train, x_test, y_train, train_ids, test_ids], ['x_train', 'x_test', 'y_train', 'train_ids', 'test_ids']):\n",
    "    path = os.path.join(CLEAN_DATA_PATH, name)\n",
    "    np.save(os.path.join(CLEAN_DATA_PATH, name + '.npy'), data)"
   ]
  },
  {
   "cell_type": "code",
   "execution_count": null,
   "id": "b4fc05af",
   "metadata": {},
   "outputs": [],
   "source": []
  }
 ],
 "metadata": {
  "kernelspec": {
   "display_name": "Python 3 (ipykernel)",
   "language": "python",
   "name": "python3"
  },
  "language_info": {
   "codemirror_mode": {
    "name": "ipython",
    "version": 3
   },
   "file_extension": ".py",
   "mimetype": "text/x-python",
   "name": "python",
   "nbconvert_exporter": "python",
   "pygments_lexer": "ipython3",
   "version": "3.11.8"
  }
 },
 "nbformat": 4,
 "nbformat_minor": 5
}
